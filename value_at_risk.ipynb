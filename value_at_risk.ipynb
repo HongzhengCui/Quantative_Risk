{
 "cells": [
  {
   "cell_type": "code",
   "execution_count": 17,
   "metadata": {},
   "outputs": [],
   "source": [
    "import numpy as np\n",
    "import pandas as pd\n",
    "from RiskLib import calc_returns, value_at_risk, ew_cov, simulation, copula"
   ]
  },
  {
   "cell_type": "code",
   "execution_count": 18,
   "metadata": {},
   "outputs": [
    {
     "data": {
      "text/html": [
       "<div>\n",
       "<style scoped>\n",
       "    .dataframe tbody tr th:only-of-type {\n",
       "        vertical-align: middle;\n",
       "    }\n",
       "\n",
       "    .dataframe tbody tr th {\n",
       "        vertical-align: top;\n",
       "    }\n",
       "\n",
       "    .dataframe thead th {\n",
       "        text-align: right;\n",
       "    }\n",
       "</style>\n",
       "<table border=\"1\" class=\"dataframe\">\n",
       "  <thead>\n",
       "    <tr style=\"text-align: right;\">\n",
       "      <th></th>\n",
       "      <th>Date</th>\n",
       "      <th>SPY</th>\n",
       "      <th>AAPL</th>\n",
       "      <th>MSFT</th>\n",
       "      <th>AMZN</th>\n",
       "      <th>TSLA</th>\n",
       "      <th>GOOGL</th>\n",
       "      <th>GOOG</th>\n",
       "      <th>META</th>\n",
       "      <th>NVDA</th>\n",
       "      <th>...</th>\n",
       "      <th>PNC</th>\n",
       "      <th>MDLZ</th>\n",
       "      <th>MO</th>\n",
       "      <th>ADI</th>\n",
       "      <th>GILD</th>\n",
       "      <th>LMT</th>\n",
       "      <th>SYK</th>\n",
       "      <th>GM</th>\n",
       "      <th>TFC</th>\n",
       "      <th>TJX</th>\n",
       "    </tr>\n",
       "  </thead>\n",
       "  <tbody>\n",
       "    <tr>\n",
       "      <th>0</th>\n",
       "      <td>2/14/2022 0:00</td>\n",
       "      <td>432.011322</td>\n",
       "      <td>167.863144</td>\n",
       "      <td>292.261475</td>\n",
       "      <td>155.167007</td>\n",
       "      <td>291.920013</td>\n",
       "      <td>135.526001</td>\n",
       "      <td>135.300003</td>\n",
       "      <td>217.699997</td>\n",
       "      <td>242.443298</td>\n",
       "      <td>...</td>\n",
       "      <td>197.263107</td>\n",
       "      <td>64.592575</td>\n",
       "      <td>46.290192</td>\n",
       "      <td>151.118790</td>\n",
       "      <td>58.443172</td>\n",
       "      <td>377.068665</td>\n",
       "      <td>247.324020</td>\n",
       "      <td>48.182598</td>\n",
       "      <td>60.352272</td>\n",
       "      <td>66.789505</td>\n",
       "    </tr>\n",
       "    <tr>\n",
       "      <th>1</th>\n",
       "      <td>2/15/2022 0:00</td>\n",
       "      <td>438.978333</td>\n",
       "      <td>171.749573</td>\n",
       "      <td>297.680664</td>\n",
       "      <td>156.510498</td>\n",
       "      <td>307.476654</td>\n",
       "      <td>136.608505</td>\n",
       "      <td>136.425507</td>\n",
       "      <td>221.000000</td>\n",
       "      <td>264.702484</td>\n",
       "      <td>...</td>\n",
       "      <td>199.789520</td>\n",
       "      <td>64.328896</td>\n",
       "      <td>46.502743</td>\n",
       "      <td>159.029022</td>\n",
       "      <td>58.653572</td>\n",
       "      <td>372.440185</td>\n",
       "      <td>255.490829</td>\n",
       "      <td>49.446892</td>\n",
       "      <td>62.076630</td>\n",
       "      <td>67.673614</td>\n",
       "    </tr>\n",
       "    <tr>\n",
       "      <th>2</th>\n",
       "      <td>2/16/2022 0:00</td>\n",
       "      <td>439.470337</td>\n",
       "      <td>171.511032</td>\n",
       "      <td>297.333191</td>\n",
       "      <td>158.100494</td>\n",
       "      <td>307.796661</td>\n",
       "      <td>137.738007</td>\n",
       "      <td>137.487503</td>\n",
       "      <td>216.539993</td>\n",
       "      <td>264.862305</td>\n",
       "      <td>...</td>\n",
       "      <td>201.139511</td>\n",
       "      <td>64.172638</td>\n",
       "      <td>46.770744</td>\n",
       "      <td>165.211960</td>\n",
       "      <td>59.198696</td>\n",
       "      <td>377.000458</td>\n",
       "      <td>256.349976</td>\n",
       "      <td>50.203476</td>\n",
       "      <td>61.990410</td>\n",
       "      <td>65.915215</td>\n",
       "    </tr>\n",
       "    <tr>\n",
       "      <th>3</th>\n",
       "      <td>2/17/2022 0:00</td>\n",
       "      <td>430.082642</td>\n",
       "      <td>167.863144</td>\n",
       "      <td>288.626679</td>\n",
       "      <td>154.652496</td>\n",
       "      <td>292.116669</td>\n",
       "      <td>132.539002</td>\n",
       "      <td>132.308502</td>\n",
       "      <td>207.710007</td>\n",
       "      <td>244.841064</td>\n",
       "      <td>...</td>\n",
       "      <td>194.109894</td>\n",
       "      <td>64.514450</td>\n",
       "      <td>47.473091</td>\n",
       "      <td>157.448944</td>\n",
       "      <td>58.615318</td>\n",
       "      <td>378.822571</td>\n",
       "      <td>248.439911</td>\n",
       "      <td>48.600708</td>\n",
       "      <td>59.921181</td>\n",
       "      <td>64.019295</td>\n",
       "    </tr>\n",
       "    <tr>\n",
       "      <th>4</th>\n",
       "      <td>2/18/2022 0:00</td>\n",
       "      <td>427.297852</td>\n",
       "      <td>166.292648</td>\n",
       "      <td>285.846893</td>\n",
       "      <td>152.601502</td>\n",
       "      <td>285.660004</td>\n",
       "      <td>130.403000</td>\n",
       "      <td>130.467499</td>\n",
       "      <td>206.160004</td>\n",
       "      <td>236.199127</td>\n",
       "      <td>...</td>\n",
       "      <td>193.984528</td>\n",
       "      <td>64.455841</td>\n",
       "      <td>47.815025</td>\n",
       "      <td>157.380234</td>\n",
       "      <td>58.385788</td>\n",
       "      <td>376.571686</td>\n",
       "      <td>245.042847</td>\n",
       "      <td>48.381695</td>\n",
       "      <td>59.700851</td>\n",
       "      <td>64.981995</td>\n",
       "    </tr>\n",
       "  </tbody>\n",
       "</table>\n",
       "<p>5 rows × 101 columns</p>\n",
       "</div>"
      ],
      "text/plain": [
       "             Date         SPY        AAPL        MSFT        AMZN        TSLA  \\\n",
       "0  2/14/2022 0:00  432.011322  167.863144  292.261475  155.167007  291.920013   \n",
       "1  2/15/2022 0:00  438.978333  171.749573  297.680664  156.510498  307.476654   \n",
       "2  2/16/2022 0:00  439.470337  171.511032  297.333191  158.100494  307.796661   \n",
       "3  2/17/2022 0:00  430.082642  167.863144  288.626679  154.652496  292.116669   \n",
       "4  2/18/2022 0:00  427.297852  166.292648  285.846893  152.601502  285.660004   \n",
       "\n",
       "        GOOGL        GOOG        META        NVDA  ...         PNC       MDLZ  \\\n",
       "0  135.526001  135.300003  217.699997  242.443298  ...  197.263107  64.592575   \n",
       "1  136.608505  136.425507  221.000000  264.702484  ...  199.789520  64.328896   \n",
       "2  137.738007  137.487503  216.539993  264.862305  ...  201.139511  64.172638   \n",
       "3  132.539002  132.308502  207.710007  244.841064  ...  194.109894  64.514450   \n",
       "4  130.403000  130.467499  206.160004  236.199127  ...  193.984528  64.455841   \n",
       "\n",
       "          MO         ADI       GILD         LMT         SYK         GM  \\\n",
       "0  46.290192  151.118790  58.443172  377.068665  247.324020  48.182598   \n",
       "1  46.502743  159.029022  58.653572  372.440185  255.490829  49.446892   \n",
       "2  46.770744  165.211960  59.198696  377.000458  256.349976  50.203476   \n",
       "3  47.473091  157.448944  58.615318  378.822571  248.439911  48.600708   \n",
       "4  47.815025  157.380234  58.385788  376.571686  245.042847  48.381695   \n",
       "\n",
       "         TFC        TJX  \n",
       "0  60.352272  66.789505  \n",
       "1  62.076630  67.673614  \n",
       "2  61.990410  65.915215  \n",
       "3  59.921181  64.019295  \n",
       "4  59.700851  64.981995  \n",
       "\n",
       "[5 rows x 101 columns]"
      ]
     },
     "execution_count": 18,
     "metadata": {},
     "output_type": "execute_result"
    }
   ],
   "source": [
    "price = pd.read_csv(\"data/price.csv\")\n",
    "price.head()"
   ]
  },
  {
   "cell_type": "code",
   "execution_count": 19,
   "metadata": {},
   "outputs": [],
   "source": [
    "arithmetic_returns = calc_returns.return_calculate(price, \"DISCRETE\", \"Date\")\n",
    "arithmetic_returns = arithmetic_returns.drop(arithmetic_returns.columns[0], axis=1)"
   ]
  },
  {
   "cell_type": "code",
   "execution_count": 20,
   "metadata": {},
   "outputs": [
    {
     "data": {
      "text/plain": [
       "0    0.015158\n",
       "1   -0.020181\n",
       "2   -0.040778\n",
       "3   -0.007462\n",
       "4   -0.019790\n",
       "Name: META, dtype: float64"
      ]
     },
     "execution_count": 20,
     "metadata": {},
     "output_type": "execute_result"
    }
   ],
   "source": [
    "arithmetic_returns['META'].head()"
   ]
  },
  {
   "cell_type": "code",
   "execution_count": 21,
   "metadata": {},
   "outputs": [
    {
     "name": "stdout",
     "output_type": "stream",
     "text": [
      "(0.06561787073963313, 0.06560156967533286)\n",
      "(0.08228331604039456, 0.08226701497609429)\n"
     ]
    }
   ],
   "source": [
    "# Using a normal distribution\n",
    "var_normal = value_at_risk.var_normal(arithmetic_returns['META'])\n",
    "es_normal = value_at_risk.ES_normal(arithmetic_returns['META'])\n",
    "print(var_normal)\n",
    "print(es_normal)"
   ]
  },
  {
   "cell_type": "code",
   "execution_count": 22,
   "metadata": {},
   "outputs": [
    {
     "name": "stdout",
     "output_type": "stream",
     "text": [
      "(0.06561787073963313, -0.0016069485689090691)\n"
     ]
    }
   ],
   "source": [
    "# Using a normal distribution with an Exponentially Weighted variance\n",
    "var_normal_EW = value_at_risk.var_normal_ew(arithmetic_returns['META'])\n",
    "print(var_normal_EW)"
   ]
  },
  {
   "cell_type": "code",
   "execution_count": 23,
   "metadata": {},
   "outputs": [
    {
     "name": "stdout",
     "output_type": "stream",
     "text": [
      "(0.05759600524783451, 0.05757970418353424)\n",
      "(0.08677139118946736, 0.08675509012516709)\n"
     ]
    }
   ],
   "source": [
    "# Using a MLE fitted T distribution\n",
    "var_mle_t = value_at_risk.var_t_dist(arithmetic_returns['META'])\n",
    "es_mle_t = value_at_risk.ES_t(arithmetic_returns['META'])\n",
    "print(var_mle_t)\n",
    "print(es_mle_t)"
   ]
  },
  {
   "cell_type": "code",
   "execution_count": 24,
   "metadata": {},
   "outputs": [
    {
     "name": "stdout",
     "output_type": "stream",
     "text": [
      "(array([0.06600947]), array([0.06599317]))\n"
     ]
    }
   ],
   "source": [
    "# Using a fitted AR(1) model\n",
    "var_ar1 = value_at_risk.var_ar(arithmetic_returns['META'])\n",
    "print(var_ar1)"
   ]
  },
  {
   "cell_type": "code",
   "execution_count": 25,
   "metadata": {},
   "outputs": [
    {
     "name": "stdout",
     "output_type": "stream",
     "text": [
      "(0.05463638014667897, 0.0546200790823787)\n"
     ]
    }
   ],
   "source": [
    "# Using a Historic Simulation\n",
    "var_historic = value_at_risk.var_historic(arithmetic_returns['META'])\n",
    "print(var_historic)"
   ]
  },
  {
   "cell_type": "code",
   "execution_count": 26,
   "metadata": {},
   "outputs": [
    {
     "data": {
      "text/html": [
       "<div>\n",
       "<style scoped>\n",
       "    .dataframe tbody tr th:only-of-type {\n",
       "        vertical-align: middle;\n",
       "    }\n",
       "\n",
       "    .dataframe tbody tr th {\n",
       "        vertical-align: top;\n",
       "    }\n",
       "\n",
       "    .dataframe thead th {\n",
       "        text-align: right;\n",
       "    }\n",
       "</style>\n",
       "<table border=\"1\" class=\"dataframe\">\n",
       "  <thead>\n",
       "    <tr style=\"text-align: right;\">\n",
       "      <th></th>\n",
       "      <th>Portfolio</th>\n",
       "      <th>Stock</th>\n",
       "      <th>Holding</th>\n",
       "    </tr>\n",
       "  </thead>\n",
       "  <tbody>\n",
       "    <tr>\n",
       "      <th>0</th>\n",
       "      <td>A</td>\n",
       "      <td>AAPL</td>\n",
       "      <td>58</td>\n",
       "    </tr>\n",
       "    <tr>\n",
       "      <th>1</th>\n",
       "      <td>A</td>\n",
       "      <td>TSLA</td>\n",
       "      <td>10</td>\n",
       "    </tr>\n",
       "    <tr>\n",
       "      <th>2</th>\n",
       "      <td>A</td>\n",
       "      <td>JPM</td>\n",
       "      <td>64</td>\n",
       "    </tr>\n",
       "    <tr>\n",
       "      <th>3</th>\n",
       "      <td>A</td>\n",
       "      <td>HD</td>\n",
       "      <td>27</td>\n",
       "    </tr>\n",
       "    <tr>\n",
       "      <th>4</th>\n",
       "      <td>A</td>\n",
       "      <td>BAC</td>\n",
       "      <td>209</td>\n",
       "    </tr>\n",
       "  </tbody>\n",
       "</table>\n",
       "</div>"
      ],
      "text/plain": [
       "  Portfolio Stock  Holding\n",
       "0         A  AAPL       58\n",
       "1         A  TSLA       10\n",
       "2         A   JPM       64\n",
       "3         A    HD       27\n",
       "4         A   BAC      209"
      ]
     },
     "execution_count": 26,
     "metadata": {},
     "output_type": "execute_result"
    }
   ],
   "source": [
    "portfolio = pd.read_csv(\"data/portfolio.csv\")\n",
    "portfolio.head()"
   ]
  },
  {
   "cell_type": "code",
   "execution_count": 27,
   "metadata": {},
   "outputs": [],
   "source": [
    "stocks_in_portfolio_A = portfolio['Stock'][portfolio['Portfolio'] == 'A'].values\n",
    "stocks_in_portfolio_B = portfolio['Stock'][portfolio['Portfolio'] == 'B'].values\n",
    "stocks_in_portfolio_C = portfolio['Stock'][portfolio['Portfolio'] == 'C'].values\n",
    "\n",
    "portfolio_A_values = portfolio['Holding'][portfolio['Portfolio'] == 'A'].values * price[stocks_in_portfolio_A].iloc[-1]\n",
    "portfolio_B_values = portfolio['Holding'][portfolio['Portfolio'] == 'B'].values * price[stocks_in_portfolio_B].iloc[-1]\n",
    "portfolio_C_values = portfolio['Holding'][portfolio['Portfolio'] == 'C'].values * price[stocks_in_portfolio_C].iloc[-1]\n",
    "\n",
    "portfolio_total_values = portfolio['Holding'].values * price[portfolio['Stock']].iloc[-1]\n",
    "\n",
    "portfolio_A_weights = portfolio_A_values / portfolio_A_values.sum()\n",
    "portfolio_B_weights = portfolio_B_values / portfolio_B_values.sum()\n",
    "portfolio_C_weights = portfolio_C_values / portfolio_C_values.sum()\n",
    "portfolio_total_weights = portfolio_total_values / portfolio_total_values.sum()"
   ]
  },
  {
   "cell_type": "code",
   "execution_count": 28,
   "metadata": {},
   "outputs": [
    {
     "name": "stdout",
     "output_type": "stream",
     "text": [
      "The 95.0% VaR of the portfolio A is $5655.24\n",
      "The 95.0% VaR of the portfolio B is $4501.56\n",
      "The 95.0% VaR of the portfolio C is $3777.41\n",
      "The 95.0% VaR of the total portfolio is $13662.06\n"
     ]
    }
   ],
   "source": [
    "portfolio_A_returns = arithmetic_returns[stocks_in_portfolio_A]\n",
    "portfolio_B_returns = arithmetic_returns[stocks_in_portfolio_B]\n",
    "portfolio_C_returns = arithmetic_returns[stocks_in_portfolio_C]\n",
    "portfolio_total_returns = arithmetic_returns[portfolio['Stock']]\n",
    "\n",
    "portfolio_A_ew_cov = ew_cov.ewCovar(portfolio_A_returns, 0.94)\n",
    "portfolio_B_ew_cov = ew_cov.ewCovar(portfolio_B_returns, 0.94)\n",
    "portfolio_C_ew_cov = ew_cov.ewCovar(portfolio_C_returns, 0.94)\n",
    "portfolio_total_ew_cov = ew_cov.ewCovar(portfolio_total_returns, 0.94)\n",
    "\n",
    "simulated_A_returns = simulation.pca_simulation(portfolio_A_ew_cov)\n",
    "simulated_B_returns = simulation.pca_simulation(portfolio_B_ew_cov)\n",
    "simulated_C_returns = simulation.pca_simulation(portfolio_C_ew_cov)\n",
    "simulated_total_returns = simulation.pca_simulation(portfolio_total_ew_cov)\n",
    "\n",
    "simulated_portfolioA_return = np.dot(simulated_A_returns, portfolio_A_weights)\n",
    "simulated_portfolioB_return = np.dot(simulated_B_returns, portfolio_B_weights)\n",
    "simulated_portfolioC_return = np.dot(simulated_C_returns, portfolio_C_weights)\n",
    "simulated_portfolio_total_return = np.dot(simulated_total_returns, portfolio_total_weights)\n",
    "\n",
    "simulated_portfolioA_value_changes = simulated_portfolioA_return * portfolio_A_values.sum()\n",
    "simulated_portfolioB_value_changes = simulated_portfolioB_return * portfolio_B_values.sum()\n",
    "simulated_portfolioC_value_changes = simulated_portfolioC_return * portfolio_C_values.sum()\n",
    "simulated_portfolio_total_value_changes = simulated_portfolio_total_return * portfolio_total_values.sum()\n",
    "\n",
    "confidence_level = 0.95\n",
    "\n",
    "portfolioA_var = -np.percentile(simulated_portfolioA_value_changes, (1 - confidence_level) * 100)\n",
    "print(f\"The {confidence_level * 100}% VaR of the portfolio A is ${portfolioA_var:.2f}\")\n",
    "portfolioB_var = -np.percentile(simulated_portfolioB_value_changes, (1 - confidence_level) * 100)\n",
    "print(f\"The {confidence_level * 100}% VaR of the portfolio B is ${portfolioB_var:.2f}\")\n",
    "portfolioC_var = -np.percentile(simulated_portfolioC_value_changes, (1 - confidence_level) * 100)\n",
    "print(f\"The {confidence_level * 100}% VaR of the portfolio C is ${portfolioC_var:.2f}\")\n",
    "portfolio_total_var = -np.percentile(simulated_portfolio_total_value_changes, (1 - confidence_level) * 100)\n",
    "print(f\"The {confidence_level * 100}% VaR of the total portfolio is ${portfolio_total_var:.2f}\")"
   ]
  },
  {
   "cell_type": "code",
   "execution_count": 29,
   "metadata": {},
   "outputs": [
    {
     "name": "stdout",
     "output_type": "stream",
     "text": [
      "  Portfolio Stock  Holding  Starting Price Distribution\n",
      "0         A  AAPL       58      150.639999            T\n",
      "1         A  TSLA       10      207.320007            T\n",
      "2         A   JPM       64      140.419998            T\n",
      "3         A    HD       27      315.549988            T\n",
      "4         A   BAC      209       35.720001            T\n"
     ]
    }
   ],
   "source": [
    "portfolio_new = portfolio.copy()\n",
    "for stock in portfolio_new[\"Stock\"]:\n",
    "    portfolio_new.loc[portfolio_new['Stock'] == stock, 'Starting Price'] = price.iloc[-1][stock]\n",
    "\n",
    "portfolio_new.loc[portfolio_new['Portfolio'].isin(['A', 'B']), 'Distribution'] = 'T'\n",
    "portfolio_new.loc[portfolio_new['Portfolio'] == 'C', 'Distribution'] = 'Normal'\n",
    "print(portfolio_new.head())"
   ]
  },
  {
   "cell_type": "code",
   "execution_count": 30,
   "metadata": {},
   "outputs": [],
   "source": [
    "portfolio_A = portfolio_new[portfolio_new['Portfolio'] == 'A'].copy()\n",
    "portfolio_A = portfolio_A.drop('Portfolio', axis=1)\n",
    "portfolio_B = portfolio_new[portfolio_new['Portfolio'] == 'B'].copy()\n",
    "portfolio_B = portfolio_B.drop('Portfolio', axis=1)\n",
    "portfolio_C = portfolio_new[portfolio_new['Portfolio'] == 'C'].copy()\n",
    "portfolio_C = portfolio_C.drop('Portfolio', axis=1)"
   ]
  },
  {
   "cell_type": "code",
   "execution_count": 31,
   "metadata": {},
   "outputs": [
    {
     "name": "stdout",
     "output_type": "stream",
     "text": [
      "Portfolio A:\n",
      "    Stock        VaR95          ES95\n",
      "35  Total  7929.631108  10581.948695\n",
      "Portfolio B:\n",
      "    Stock        VaR95         ES95\n",
      "32  Total  6795.790553  8993.930764\n",
      "Portfolio C:\n",
      "    Stock        VaR95         ES95\n",
      "32  Total  5883.509289  7396.565108\n",
      "Total Portfolio:\n",
      "    Stock         VaR95          ES95\n",
      "99  Total  20601.346728  26632.087012\n"
     ]
    }
   ],
   "source": [
    "risk_A = copula.simulateCopula(portfolio_A, portfolio_A_returns)\n",
    "risk_B = copula.simulateCopula(portfolio_B, portfolio_B_returns)\n",
    "risk_C = copula.simulateCopula(portfolio_C, portfolio_C_returns)\n",
    "risk_total = copula.simulateCopula(portfolio_new.drop('Portfolio', axis=1), portfolio_total_returns)\n",
    "print('Portfolio A:')\n",
    "print(risk_A[risk_A['Stock']=='Total'])\n",
    "print('Portfolio B:')\n",
    "print(risk_B[risk_B['Stock']=='Total'])\n",
    "print('Portfolio C:')\n",
    "print(risk_C[risk_C['Stock']=='Total'])\n",
    "print('Total Portfolio:')\n",
    "print(risk_total[risk_total['Stock']=='Total'])"
   ]
  }
 ],
 "metadata": {
  "kernelspec": {
   "display_name": "Python 3",
   "language": "python",
   "name": "python3"
  },
  "language_info": {
   "codemirror_mode": {
    "name": "ipython",
    "version": 3
   },
   "file_extension": ".py",
   "mimetype": "text/x-python",
   "name": "python",
   "nbconvert_exporter": "python",
   "pygments_lexer": "ipython3",
   "version": "3.12.2"
  }
 },
 "nbformat": 4,
 "nbformat_minor": 2
}
