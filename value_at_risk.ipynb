{
 "cells": [
  {
   "cell_type": "code",
   "execution_count": 1,
   "metadata": {},
   "outputs": [],
   "source": [
    "import numpy as np\n",
    "import pandas as pd\n",
    "from scipy.stats import norm\n",
    "from RiskLib import calc_returns, value_at_risk, ew_cov, simulation"
   ]
  },
  {
   "cell_type": "code",
   "execution_count": 2,
   "metadata": {},
   "outputs": [
    {
     "data": {
      "text/html": [
       "<div>\n",
       "<style scoped>\n",
       "    .dataframe tbody tr th:only-of-type {\n",
       "        vertical-align: middle;\n",
       "    }\n",
       "\n",
       "    .dataframe tbody tr th {\n",
       "        vertical-align: top;\n",
       "    }\n",
       "\n",
       "    .dataframe thead th {\n",
       "        text-align: right;\n",
       "    }\n",
       "</style>\n",
       "<table border=\"1\" class=\"dataframe\">\n",
       "  <thead>\n",
       "    <tr style=\"text-align: right;\">\n",
       "      <th></th>\n",
       "      <th>Date</th>\n",
       "      <th>SPY</th>\n",
       "      <th>AAPL</th>\n",
       "      <th>MSFT</th>\n",
       "      <th>AMZN</th>\n",
       "      <th>NVDA</th>\n",
       "      <th>GOOGL</th>\n",
       "      <th>TSLA</th>\n",
       "      <th>GOOG</th>\n",
       "      <th>BRK-B</th>\n",
       "      <th>...</th>\n",
       "      <th>CI</th>\n",
       "      <th>ETN</th>\n",
       "      <th>SLB</th>\n",
       "      <th>PGR</th>\n",
       "      <th>SCHW</th>\n",
       "      <th>LRCX</th>\n",
       "      <th>ZTS</th>\n",
       "      <th>C</th>\n",
       "      <th>BSX</th>\n",
       "      <th>AMT</th>\n",
       "    </tr>\n",
       "  </thead>\n",
       "  <tbody>\n",
       "    <tr>\n",
       "      <th>0</th>\n",
       "      <td>2022-09-01</td>\n",
       "      <td>388.679565</td>\n",
       "      <td>157.028442</td>\n",
       "      <td>257.908386</td>\n",
       "      <td>127.820000</td>\n",
       "      <td>139.243423</td>\n",
       "      <td>109.739998</td>\n",
       "      <td>277.160004</td>\n",
       "      <td>110.550003</td>\n",
       "      <td>282.429993</td>\n",
       "      <td>...</td>\n",
       "      <td>282.124664</td>\n",
       "      <td>136.138718</td>\n",
       "      <td>36.036259</td>\n",
       "      <td>123.325203</td>\n",
       "      <td>70.653595</td>\n",
       "      <td>424.766022</td>\n",
       "      <td>158.011505</td>\n",
       "      <td>46.662727</td>\n",
       "      <td>40.990002</td>\n",
       "      <td>249.972107</td>\n",
       "    </tr>\n",
       "    <tr>\n",
       "      <th>1</th>\n",
       "      <td>2022-09-02</td>\n",
       "      <td>384.581177</td>\n",
       "      <td>154.891113</td>\n",
       "      <td>253.609909</td>\n",
       "      <td>127.510002</td>\n",
       "      <td>136.346054</td>\n",
       "      <td>107.849998</td>\n",
       "      <td>270.209991</td>\n",
       "      <td>108.680000</td>\n",
       "      <td>277.670013</td>\n",
       "      <td>...</td>\n",
       "      <td>281.791626</td>\n",
       "      <td>134.696564</td>\n",
       "      <td>37.229321</td>\n",
       "      <td>122.039116</td>\n",
       "      <td>69.294113</td>\n",
       "      <td>422.966797</td>\n",
       "      <td>155.602798</td>\n",
       "      <td>46.748875</td>\n",
       "      <td>40.490002</td>\n",
       "      <td>243.384186</td>\n",
       "    </tr>\n",
       "    <tr>\n",
       "      <th>2</th>\n",
       "      <td>2022-09-06</td>\n",
       "      <td>383.130066</td>\n",
       "      <td>153.618668</td>\n",
       "      <td>250.826813</td>\n",
       "      <td>126.110001</td>\n",
       "      <td>134.527710</td>\n",
       "      <td>106.809998</td>\n",
       "      <td>274.420013</td>\n",
       "      <td>107.480003</td>\n",
       "      <td>276.589996</td>\n",
       "      <td>...</td>\n",
       "      <td>280.483856</td>\n",
       "      <td>135.834595</td>\n",
       "      <td>36.703716</td>\n",
       "      <td>122.108894</td>\n",
       "      <td>69.422180</td>\n",
       "      <td>419.574921</td>\n",
       "      <td>155.464035</td>\n",
       "      <td>46.155418</td>\n",
       "      <td>40.380001</td>\n",
       "      <td>246.615067</td>\n",
       "    </tr>\n",
       "    <tr>\n",
       "      <th>3</th>\n",
       "      <td>2022-09-07</td>\n",
       "      <td>390.013000</td>\n",
       "      <td>155.040237</td>\n",
       "      <td>255.620483</td>\n",
       "      <td>129.479996</td>\n",
       "      <td>137.056152</td>\n",
       "      <td>109.449997</td>\n",
       "      <td>283.700012</td>\n",
       "      <td>110.480003</td>\n",
       "      <td>281.040009</td>\n",
       "      <td>...</td>\n",
       "      <td>285.154480</td>\n",
       "      <td>138.591293</td>\n",
       "      <td>36.408989</td>\n",
       "      <td>126.814598</td>\n",
       "      <td>70.722557</td>\n",
       "      <td>424.726715</td>\n",
       "      <td>158.992813</td>\n",
       "      <td>46.547867</td>\n",
       "      <td>41.470001</td>\n",
       "      <td>251.776749</td>\n",
       "    </tr>\n",
       "    <tr>\n",
       "      <th>4</th>\n",
       "      <td>2022-09-08</td>\n",
       "      <td>392.562256</td>\n",
       "      <td>153.549088</td>\n",
       "      <td>256.046387</td>\n",
       "      <td>129.820007</td>\n",
       "      <td>139.814484</td>\n",
       "      <td>108.379997</td>\n",
       "      <td>289.260010</td>\n",
       "      <td>109.419998</td>\n",
       "      <td>283.339996</td>\n",
       "      <td>...</td>\n",
       "      <td>285.852631</td>\n",
       "      <td>140.523956</td>\n",
       "      <td>37.499485</td>\n",
       "      <td>128.828476</td>\n",
       "      <td>72.072182</td>\n",
       "      <td>431.766174</td>\n",
       "      <td>157.099579</td>\n",
       "      <td>47.763493</td>\n",
       "      <td>42.709999</td>\n",
       "      <td>253.882172</td>\n",
       "    </tr>\n",
       "  </tbody>\n",
       "</table>\n",
       "<p>5 rows × 102 columns</p>\n",
       "</div>"
      ],
      "text/plain": [
       "         Date         SPY        AAPL        MSFT        AMZN        NVDA  \\\n",
       "0  2022-09-01  388.679565  157.028442  257.908386  127.820000  139.243423   \n",
       "1  2022-09-02  384.581177  154.891113  253.609909  127.510002  136.346054   \n",
       "2  2022-09-06  383.130066  153.618668  250.826813  126.110001  134.527710   \n",
       "3  2022-09-07  390.013000  155.040237  255.620483  129.479996  137.056152   \n",
       "4  2022-09-08  392.562256  153.549088  256.046387  129.820007  139.814484   \n",
       "\n",
       "        GOOGL        TSLA        GOOG       BRK-B  ...          CI  \\\n",
       "0  109.739998  277.160004  110.550003  282.429993  ...  282.124664   \n",
       "1  107.849998  270.209991  108.680000  277.670013  ...  281.791626   \n",
       "2  106.809998  274.420013  107.480003  276.589996  ...  280.483856   \n",
       "3  109.449997  283.700012  110.480003  281.040009  ...  285.154480   \n",
       "4  108.379997  289.260010  109.419998  283.339996  ...  285.852631   \n",
       "\n",
       "          ETN        SLB         PGR       SCHW        LRCX         ZTS  \\\n",
       "0  136.138718  36.036259  123.325203  70.653595  424.766022  158.011505   \n",
       "1  134.696564  37.229321  122.039116  69.294113  422.966797  155.602798   \n",
       "2  135.834595  36.703716  122.108894  69.422180  419.574921  155.464035   \n",
       "3  138.591293  36.408989  126.814598  70.722557  424.726715  158.992813   \n",
       "4  140.523956  37.499485  128.828476  72.072182  431.766174  157.099579   \n",
       "\n",
       "           C        BSX         AMT  \n",
       "0  46.662727  40.990002  249.972107  \n",
       "1  46.748875  40.490002  243.384186  \n",
       "2  46.155418  40.380001  246.615067  \n",
       "3  46.547867  41.470001  251.776749  \n",
       "4  47.763493  42.709999  253.882172  \n",
       "\n",
       "[5 rows x 102 columns]"
      ]
     },
     "execution_count": 2,
     "metadata": {},
     "output_type": "execute_result"
    }
   ],
   "source": [
    "data = pd.read_csv(\"VaR.csv\")\n",
    "data.head()"
   ]
  },
  {
   "cell_type": "code",
   "execution_count": 3,
   "metadata": {},
   "outputs": [],
   "source": [
    "arithmetic_returns = calc_returns.return_calculate(data, \"DISCRETE\", \"Date\")\n",
    "arithmetic_returns = arithmetic_returns.drop(arithmetic_returns.columns[0], axis=1)"
   ]
  },
  {
   "cell_type": "code",
   "execution_count": 4,
   "metadata": {},
   "outputs": [
    {
     "data": {
      "text/plain": [
       "0   -0.030479\n",
       "1   -0.011103\n",
       "2    0.011669\n",
       "3    0.010412\n",
       "4    0.043749\n",
       "Name: META, dtype: float64"
      ]
     },
     "execution_count": 4,
     "metadata": {},
     "output_type": "execute_result"
    }
   ],
   "source": [
    "arithmetic_returns['META'].head()"
   ]
  },
  {
   "cell_type": "code",
   "execution_count": 5,
   "metadata": {},
   "outputs": [
    {
     "name": "stdout",
     "output_type": "stream",
     "text": [
      "(0.05149979607637217, 0.05428693242254699)\n"
     ]
    }
   ],
   "source": [
    "# Using a normal distribution\n",
    "var_normal = value_at_risk.var_normal(arithmetic_returns['META'])\n",
    "print(var_normal)"
   ]
  },
  {
   "cell_type": "code",
   "execution_count": 6,
   "metadata": {},
   "outputs": [
    {
     "name": "stdout",
     "output_type": "stream",
     "text": [
      "(0.05149979607637217, 0.0016978649735826768)\n"
     ]
    }
   ],
   "source": [
    "# Using a normal distribution with an Exponentially Weighted variance\n",
    "var_normal_EW = value_at_risk.var_normal_ew(arithmetic_returns['META'])\n",
    "print(var_normal_EW)"
   ]
  },
  {
   "cell_type": "code",
   "execution_count": 7,
   "metadata": {},
   "outputs": [
    {
     "name": "stdout",
     "output_type": "stream",
     "text": [
      "(0.040347050386296476, 0.04313418673247129)\n"
     ]
    }
   ],
   "source": [
    "# Using a MLE fitted T distribution\n",
    "var_mle_t = value_at_risk.var_t_dist(arithmetic_returns['META'])\n",
    "print(var_mle_t)"
   ]
  },
  {
   "cell_type": "code",
   "execution_count": 8,
   "metadata": {},
   "outputs": [
    {
     "name": "stdout",
     "output_type": "stream",
     "text": [
      "(array([0.05091861]), array([0.05370575]))\n"
     ]
    }
   ],
   "source": [
    "# Using a fitted AR(1) model\n",
    "var_ar1 = value_at_risk.var_ar(arithmetic_returns['META'])\n",
    "print(var_ar1)"
   ]
  },
  {
   "cell_type": "code",
   "execution_count": 9,
   "metadata": {},
   "outputs": [
    {
     "name": "stdout",
     "output_type": "stream",
     "text": [
      "(0.03669711360916308, 0.03948424995533789)\n"
     ]
    }
   ],
   "source": [
    "# Using a Historic Simulation\n",
    "var_historic = value_at_risk.var_historic(arithmetic_returns['META'])\n",
    "print(var_historic)"
   ]
  },
  {
   "cell_type": "code",
   "execution_count": 10,
   "metadata": {},
   "outputs": [
    {
     "data": {
      "text/html": [
       "<div>\n",
       "<style scoped>\n",
       "    .dataframe tbody tr th:only-of-type {\n",
       "        vertical-align: middle;\n",
       "    }\n",
       "\n",
       "    .dataframe tbody tr th {\n",
       "        vertical-align: top;\n",
       "    }\n",
       "\n",
       "    .dataframe thead th {\n",
       "        text-align: right;\n",
       "    }\n",
       "</style>\n",
       "<table border=\"1\" class=\"dataframe\">\n",
       "  <thead>\n",
       "    <tr style=\"text-align: right;\">\n",
       "      <th></th>\n",
       "      <th>Portfolio</th>\n",
       "      <th>Stock</th>\n",
       "      <th>Holding</th>\n",
       "    </tr>\n",
       "  </thead>\n",
       "  <tbody>\n",
       "    <tr>\n",
       "      <th>0</th>\n",
       "      <td>A</td>\n",
       "      <td>AAPL</td>\n",
       "      <td>158</td>\n",
       "    </tr>\n",
       "    <tr>\n",
       "      <th>1</th>\n",
       "      <td>A</td>\n",
       "      <td>MSFT</td>\n",
       "      <td>178</td>\n",
       "    </tr>\n",
       "    <tr>\n",
       "      <th>2</th>\n",
       "      <td>A</td>\n",
       "      <td>AMZN</td>\n",
       "      <td>110</td>\n",
       "    </tr>\n",
       "    <tr>\n",
       "      <th>3</th>\n",
       "      <td>A</td>\n",
       "      <td>NVDA</td>\n",
       "      <td>54</td>\n",
       "    </tr>\n",
       "    <tr>\n",
       "      <th>4</th>\n",
       "      <td>A</td>\n",
       "      <td>GOOGL</td>\n",
       "      <td>69</td>\n",
       "    </tr>\n",
       "  </tbody>\n",
       "</table>\n",
       "</div>"
      ],
      "text/plain": [
       "  Portfolio  Stock  Holding\n",
       "0         A   AAPL      158\n",
       "1         A   MSFT      178\n",
       "2         A   AMZN      110\n",
       "3         A   NVDA       54\n",
       "4         A  GOOGL       69"
      ]
     },
     "execution_count": 10,
     "metadata": {},
     "output_type": "execute_result"
    }
   ],
   "source": [
    "portfolio = pd.read_csv(\"portfolio.csv\")\n",
    "portfolio.head()"
   ]
  },
  {
   "cell_type": "code",
   "execution_count": 11,
   "metadata": {},
   "outputs": [],
   "source": [
    "stocks_in_portfolio_A = portfolio['Stock'][portfolio['Portfolio'] == 'A'].values\n",
    "stocks_in_portfolio_B = portfolio['Stock'][portfolio['Portfolio'] == 'B'].values\n",
    "stocks_in_portfolio_C = portfolio['Stock'][portfolio['Portfolio'] == 'C'].values\n",
    "\n",
    "portfolio_A_values = portfolio['Holding'][portfolio['Portfolio'] == 'A'].values * data[stocks_in_portfolio_A].iloc[-1]\n",
    "portfolio_B_values = portfolio['Holding'][portfolio['Portfolio'] == 'B'].values * data[stocks_in_portfolio_B].iloc[-1]\n",
    "portfolio_C_values = portfolio['Holding'][portfolio['Portfolio'] == 'C'].values * data[stocks_in_portfolio_C].iloc[-1]\n",
    "\n",
    "portfolio_total_values = portfolio['Holding'].values * data[portfolio['Stock']].iloc[-1]\n",
    "\n",
    "portfolio_A_weights = portfolio_A_values / portfolio_A_values.sum()\n",
    "portfolio_B_weights = portfolio_B_values / portfolio_B_values.sum()\n",
    "portfolio_C_weights = portfolio_C_values / portfolio_C_values.sum()\n",
    "portfolio_total_weights = portfolio_total_values / portfolio_total_values.sum()"
   ]
  },
  {
   "cell_type": "code",
   "execution_count": 15,
   "metadata": {},
   "outputs": [
    {
     "name": "stdout",
     "output_type": "stream",
     "text": [
      "[[ 0.00012245  0.00090231  0.00107416 ...  0.01508764 -0.00137812\n",
      "  -0.00276684]\n",
      " [ 0.00094241  0.00257823 -0.00403511 ... -0.01516286  0.00025161\n",
      "   0.00980351]\n",
      " [ 0.00608157 -0.01476465 -0.02123456 ...  0.00632574 -0.01137736\n",
      "  -0.01302832]\n",
      " ...\n",
      " [ 0.00642874 -0.00761164  0.008168   ...  0.00505039  0.00810648\n",
      "   0.01146737]\n",
      " [-0.00023506 -0.00578266 -0.0137033  ...  0.0237076  -0.00508348\n",
      "   0.01247314]\n",
      " [ 0.05049009  0.00871253  0.00089898 ...  0.00072369  0.02512261\n",
      "   0.01980558]]\n",
      "The 95.0% VaR of the portfolio A is $15476.87\n",
      "The 95.0% VaR of the portfolio B is $8110.79\n",
      "The 95.0% VaR of the portfolio C is $18193.69\n",
      "The 95.0% VaR of the portfolio C is $38988.24\n"
     ]
    }
   ],
   "source": [
    "portfolio_A_returns = arithmetic_returns[stocks_in_portfolio_A]\n",
    "portfolio_B_returns = arithmetic_returns[stocks_in_portfolio_B]\n",
    "portfolio_C_returns = arithmetic_returns[stocks_in_portfolio_C]\n",
    "portfolio_total_returns = arithmetic_returns[portfolio['Stock']]\n",
    "\n",
    "portfolio_A_ew_cov = ew_cov.ewCovar(portfolio_A_returns, 0.94)\n",
    "portfolio_B_ew_cov = ew_cov.ewCovar(portfolio_B_returns, 0.94)\n",
    "portfolio_C_ew_cov = ew_cov.ewCovar(portfolio_C_returns, 0.94)\n",
    "portfolio_total_ew_cov = ew_cov.ewCovar(portfolio_total_returns, 0.94)\n",
    "\n",
    "simulated_A_returns = simulation.pca_simulation(portfolio_A_ew_cov)\n",
    "simulated_B_returns = simulation.pca_simulation(portfolio_B_ew_cov)\n",
    "simulated_C_returns = simulation.pca_simulation(portfolio_C_ew_cov)\n",
    "simulated_total_returns = simulation.pca_simulation(portfolio_total_ew_cov)\n",
    "\n",
    "simulated_portfolioA_return = np.dot(simulated_A_returns, portfolio_A_weights)\n",
    "simulated_portfolioB_return = np.dot(simulated_B_returns, portfolio_B_weights)\n",
    "simulated_portfolioC_return = np.dot(simulated_C_returns, portfolio_C_weights)\n",
    "simulated_portfolio_total_return = np.dot(simulated_total_returns, portfolio_total_weights)\n",
    "\n",
    "simulated_portfolioA_value_changes = simulated_portfolioA_return * portfolio_A_values.sum()\n",
    "simulated_portfolioB_value_changes = simulated_portfolioB_return * portfolio_B_values.sum()\n",
    "simulated_portfolioC_value_changes = simulated_portfolioC_return * portfolio_C_values.sum()\n",
    "simulated_portfolio_total_value_changes = simulated_portfolio_total_return * portfolio_total_values.sum()\n",
    "\n",
    "confidence_level = 0.95\n",
    "\n",
    "portfolioA_var = -np.percentile(simulated_portfolioA_value_changes, (1 - confidence_level) * 100)\n",
    "print(f\"The {confidence_level * 100}% VaR of the portfolio A is ${portfolioA_var:.2f}\")\n",
    "portfolioB_var = -np.percentile(simulated_portfolioB_value_changes, (1 - confidence_level) * 100)\n",
    "print(f\"The {confidence_level * 100}% VaR of the portfolio B is ${portfolioB_var:.2f}\")\n",
    "portfolioC_var = -np.percentile(simulated_portfolioC_value_changes, (1 - confidence_level) * 100)\n",
    "print(f\"The {confidence_level * 100}% VaR of the portfolio C is ${portfolioC_var:.2f}\")\n",
    "portfolio_total_var = -np.percentile(simulated_portfolio_total_value_changes, (1 - confidence_level) * 100)\n",
    "print(f\"The {confidence_level * 100}% VaR of the portfolio C is ${portfolio_total_var:.2f}\")"
   ]
  }
 ],
 "metadata": {
  "kernelspec": {
   "display_name": "Python 3",
   "language": "python",
   "name": "python3"
  },
  "language_info": {
   "codemirror_mode": {
    "name": "ipython",
    "version": 3
   },
   "file_extension": ".py",
   "mimetype": "text/x-python",
   "name": "python",
   "nbconvert_exporter": "python",
   "pygments_lexer": "ipython3",
   "version": "3.12.2"
  }
 },
 "nbformat": 4,
 "nbformat_minor": 2
}
