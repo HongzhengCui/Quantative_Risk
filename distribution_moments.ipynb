{
 "cells": [
  {
   "cell_type": "code",
   "execution_count": 1,
   "metadata": {},
   "outputs": [],
   "source": [
    "import numpy as np\n",
    "import pandas as pd\n",
    "from scipy import stats"
   ]
  },
  {
   "cell_type": "code",
   "execution_count": 2,
   "metadata": {},
   "outputs": [
    {
     "name": "stdout",
     "output_type": "stream",
     "text": [
      "mean:  1.0489703904839585\n",
      "variance  5.427220681881727\n",
      "skewness:  0.8792880598472443\n",
      "kurtosis:  23.069982510610544\n"
     ]
    }
   ],
   "source": [
    "data = pd.read_csv(\"data/moments.csv\")\n",
    "X = data['x'].values\n",
    "mean = np.mean(X)\n",
    "std = np.std(X, ddof=1) \n",
    "var = np.var(X, ddof=1) \n",
    "skew = np.mean((X - mean)**3) / std**3\n",
    "kurt = np.mean((X - mean)**4) / std**4 - 3\n",
    "print(\"mean: \", mean)\n",
    "print(\"variance \", var)\n",
    "print(\"skewness: \",skew)\n",
    "print(\"kurtosis: \", kurt)"
   ]
  },
  {
   "cell_type": "code",
   "execution_count": 3,
   "metadata": {},
   "outputs": [
    {
     "name": "stdout",
     "output_type": "stream",
     "text": [
      "mean:  1.0489703904839585\n",
      "variance:  5.427220681881727\n",
      "skewness:  0.8806086425277364\n",
      "kurtosis:  23.122200789989723\n"
     ]
    }
   ],
   "source": [
    "print(\"mean: \", stats.tmean(X))\n",
    "print(\"variance: \", stats.tvar(X))  # Unbiased Estimation\n",
    "print(\"skewness: \", stats.skew(X))  # Biased Estimation\n",
    "print(\"kurtosis: \", stats.kurtosis(X))  #Biased Estimation"
   ]
  }
 ],
 "metadata": {
  "kernelspec": {
   "display_name": "Python 3",
   "language": "python",
   "name": "python3"
  },
  "language_info": {
   "codemirror_mode": {
    "name": "ipython",
    "version": 3
   },
   "file_extension": ".py",
   "mimetype": "text/x-python",
   "name": "python",
   "nbconvert_exporter": "python",
   "pygments_lexer": "ipython3",
   "version": "3.12.2"
  }
 },
 "nbformat": 4,
 "nbformat_minor": 2
}
